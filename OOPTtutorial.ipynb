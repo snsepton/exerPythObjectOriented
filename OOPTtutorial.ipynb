{
 "cells": [
  {
   "cell_type": "code",
   "execution_count": 1,
   "source": [
    "class Employee:\r\n",
    "    pass"
   ],
   "outputs": [],
   "metadata": {}
  },
  {
   "cell_type": "code",
   "execution_count": 2,
   "source": [
    "emp_1 = Employee()\r\n",
    "emp_2 = Employee()\r\n",
    "\r\n",
    "print(emp_1)\r\n",
    "print(emp_2)"
   ],
   "outputs": [
    {
     "output_type": "stream",
     "name": "stdout",
     "text": [
      "<__main__.Employee object at 0x000001D6A19BAD00>\n",
      "<__main__.Employee object at 0x000001D6A19BACD0>\n"
     ]
    }
   ],
   "metadata": {}
  },
  {
   "cell_type": "code",
   "execution_count": 3,
   "source": [
    "emp_1.first = 'Corey'\r\n",
    "emp_1.last = 'Schafer'\r\n",
    "emp_1.email = 'Corey.Schafer@company.com'\r\n",
    "emp_1.pay = 50000\r\n",
    "\r\n",
    "emp_2.first = 'Test'\r\n",
    "emp_2.last = 'User'\r\n",
    "emp_2.email = 'Test.User@company.com'\r\n",
    "emp_2.pay = 60000\r\n",
    "\r\n",
    "print(emp_1.email)\r\n",
    "print(emp_2.email)"
   ],
   "outputs": [
    {
     "output_type": "stream",
     "name": "stdout",
     "text": [
      "Corey.Schafer@company.com\n",
      "Test.User@company.com\n"
     ]
    }
   ],
   "metadata": {}
  },
  {
   "cell_type": "code",
   "execution_count": 4,
   "source": [
    "class Employee:\r\n",
    "    def __init__(self, first, last, pay):\r\n",
    "        self.first = first\r\n",
    "        self.last = last\r\n",
    "        self.pay = pay\r\n",
    "        self.email = first + '_' + last + '@company.com'\r\n",
    "\r\n",
    "emp_1 = Employee('Corey', 'Schafer', 50000)\r\n",
    "emp_2 = Employee('Test', 'User', 60000)\r\n",
    "\r\n",
    "print(emp_1.email)\r\n",
    "print(emp_2.email)"
   ],
   "outputs": [
    {
     "output_type": "stream",
     "name": "stdout",
     "text": [
      "Corey_Schafer@company.com\n",
      "Test_User@company.com\n"
     ]
    }
   ],
   "metadata": {}
  },
  {
   "cell_type": "code",
   "execution_count": 5,
   "source": [
    "print('{} {}' .format(emp_1.first, emp_1.last))"
   ],
   "outputs": [
    {
     "output_type": "stream",
     "name": "stdout",
     "text": [
      "Corey Schafer\n"
     ]
    }
   ],
   "metadata": {}
  },
  {
   "cell_type": "code",
   "execution_count": 8,
   "source": [
    "class Employee:\r\n",
    "    def __init__(self, first, last, pay):\r\n",
    "        self.first = first\r\n",
    "        self.last = last\r\n",
    "        self.pay = pay\r\n",
    "        self.email = first + '_' + last + '@company.com'\r\n",
    "    def fullname(self):\r\n",
    "        return '{} {}'.format(self.first, self.last)\r\n",
    "\r\n",
    "emp_1 = Employee('Corey', 'Schafer', 50000)\r\n",
    "emp_2 = Employee('Test', 'User', 60000)\r\n",
    "\r\n",
    "print(emp_1.fullname())"
   ],
   "outputs": [
    {
     "output_type": "stream",
     "name": "stdout",
     "text": [
      "Corey Schafer\n"
     ]
    }
   ],
   "metadata": {}
  },
  {
   "cell_type": "code",
   "execution_count": 9,
   "source": [
    "print(emp_2.fullname())"
   ],
   "outputs": [
    {
     "output_type": "stream",
     "name": "stdout",
     "text": [
      "Test User\n"
     ]
    }
   ],
   "metadata": {}
  },
  {
   "cell_type": "code",
   "execution_count": 10,
   "source": [
    "emp_1.fullname()\r\n",
    "print(Employee.fullname(emp_1))"
   ],
   "outputs": [
    {
     "output_type": "stream",
     "name": "stdout",
     "text": [
      "Corey Schafer\n"
     ]
    }
   ],
   "metadata": {}
  },
  {
   "cell_type": "code",
   "execution_count": 11,
   "source": [
    "#video2"
   ],
   "outputs": [],
   "metadata": {}
  },
  {
   "cell_type": "code",
   "execution_count": 12,
   "source": [
    "class Employee:\r\n",
    "    def __init__(self, first, last, pay):\r\n",
    "        self.first = first\r\n",
    "        self.last = last\r\n",
    "        self.pay = pay\r\n",
    "        self.email = first + '_' + last + '@company.com'\r\n",
    "    def fullname(self):\r\n",
    "        return '{} {}'.format(self.first, self.last)\r\n",
    "    def apply_raise(self):\r\n",
    "        self.pay = int(self.pay * 1.04)\r\n",
    "\r\n",
    "emp_1 = Employee('Corey', 'Schafer', 50000)\r\n",
    "emp_2 = Employee('Test', 'User', 60000)\r\n",
    "\r\n",
    "print(emp_1.pay)\r\n",
    "emp_1.apply_raise()\r\n",
    "print(emp_1.pay)\r\n"
   ],
   "outputs": [
    {
     "output_type": "stream",
     "name": "stdout",
     "text": [
      "50000\n",
      "52000\n"
     ]
    }
   ],
   "metadata": {}
  },
  {
   "cell_type": "code",
   "execution_count": 13,
   "source": [
    "class Employee:\r\n",
    "\r\n",
    "    raise_amount = 1.04\r\n",
    "\r\n",
    "    def __init__(self, first, last, pay):\r\n",
    "        self.first = first\r\n",
    "        self.last = last\r\n",
    "        self.pay = pay\r\n",
    "        self.email = first + '_' + last + '@company.com'\r\n",
    "    def fullname(self):\r\n",
    "        return '{} {}'.format(self.first, self.last)\r\n",
    "    def apply_raise(self):\r\n",
    "        self.pay = int(self.pay * Employee.raise_amount)\r\n",
    "\r\n",
    "emp_1 = Employee('Corey', 'Schafer', 50000)\r\n",
    "emp_2 = Employee('Test', 'User', 60000)\r\n",
    "\r\n",
    "print(emp_1.pay)\r\n",
    "emp_1.apply_raise()\r\n",
    "print(emp_1.pay)\r\n"
   ],
   "outputs": [
    {
     "output_type": "stream",
     "name": "stdout",
     "text": [
      "50000\n",
      "52000\n"
     ]
    }
   ],
   "metadata": {}
  },
  {
   "cell_type": "code",
   "execution_count": 14,
   "source": [
    "class Employee:\r\n",
    "\r\n",
    "    raise_amount = 1.04\r\n",
    "\r\n",
    "    def __init__(self, first, last, pay):\r\n",
    "        self.first = first\r\n",
    "        self.last = last\r\n",
    "        self.pay = pay\r\n",
    "        self.email = first + '_' + last + '@company.com'\r\n",
    "    def fullname(self):\r\n",
    "        return '{} {}'.format(self.first, self.last)\r\n",
    "    def apply_raise(self):\r\n",
    "        self.pay = int(self.pay * self.raise_amount)\r\n",
    "\r\n",
    "emp_1 = Employee('Corey', 'Schafer', 50000)\r\n",
    "emp_2 = Employee('Test', 'User', 60000)\r\n",
    "\r\n",
    "print(emp_1.pay)\r\n",
    "emp_1.apply_raise()\r\n",
    "print(emp_1.pay)"
   ],
   "outputs": [
    {
     "output_type": "stream",
     "name": "stdout",
     "text": [
      "50000\n",
      "52000\n"
     ]
    }
   ],
   "metadata": {}
  },
  {
   "cell_type": "code",
   "execution_count": 15,
   "source": [
    "print(Employee.raise_amount)\r\n",
    "print(emp_1.raise_amount)\r\n",
    "print(emp_2.raise_amount)"
   ],
   "outputs": [
    {
     "output_type": "stream",
     "name": "stdout",
     "text": [
      "1.04\n",
      "1.04\n",
      "1.04\n"
     ]
    }
   ],
   "metadata": {}
  },
  {
   "cell_type": "code",
   "execution_count": 16,
   "source": [
    "print(emp_1.__dict__)"
   ],
   "outputs": [
    {
     "output_type": "stream",
     "name": "stdout",
     "text": [
      "{'first': 'Corey', 'last': 'Schafer', 'pay': 52000, 'email': 'Corey_Schafer@company.com'}\n"
     ]
    }
   ],
   "metadata": {}
  },
  {
   "cell_type": "code",
   "execution_count": 17,
   "source": [
    "print(Employee.__dict__)"
   ],
   "outputs": [
    {
     "output_type": "stream",
     "name": "stdout",
     "text": [
      "{'__module__': '__main__', 'raise_amount': 1.04, '__init__': <function Employee.__init__ at 0x000001D6A263C820>, 'fullname': <function Employee.fullname at 0x000001D6A263C280>, 'apply_raise': <function Employee.apply_raise at 0x000001D6A263C3A0>, '__dict__': <attribute '__dict__' of 'Employee' objects>, '__weakref__': <attribute '__weakref__' of 'Employee' objects>, '__doc__': None}\n"
     ]
    }
   ],
   "metadata": {}
  },
  {
   "cell_type": "code",
   "execution_count": 18,
   "source": [
    "Employee.raise_amount = 1.05\r\n",
    "print(Employee.raise_amount)\r\n",
    "print(emp_1.raise_amount)\r\n",
    "print(emp_2.raise_amount)"
   ],
   "outputs": [
    {
     "output_type": "stream",
     "name": "stdout",
     "text": [
      "1.05\n",
      "1.05\n",
      "1.05\n"
     ]
    }
   ],
   "metadata": {}
  },
  {
   "cell_type": "code",
   "execution_count": 19,
   "source": [
    "emp_1.raise_amount = 1.05\r\n",
    "print(Employee.raise_amount)\r\n",
    "print(emp_1.raise_amount)\r\n",
    "print(emp_2.raise_amount)"
   ],
   "outputs": [
    {
     "output_type": "stream",
     "name": "stdout",
     "text": [
      "1.05\n",
      "1.05\n",
      "1.05\n"
     ]
    }
   ],
   "metadata": {}
  },
  {
   "cell_type": "code",
   "execution_count": 20,
   "source": [
    "class Employee:\r\n",
    "\r\n",
    "    raise_amount = 1.04\r\n",
    "\r\n",
    "    def __init__(self, first, last, pay):\r\n",
    "        self.first = first\r\n",
    "        self.last = last\r\n",
    "        self.pay = pay\r\n",
    "        self.email = first + '_' + last + '@company.com'\r\n",
    "    def fullname(self):\r\n",
    "        return '{} {}'.format(self.first, self.last)\r\n",
    "    def apply_raise(self):\r\n",
    "        self.pay = int(self.pay * self.raise_amount)\r\n",
    "\r\n",
    "emp_1 = Employee('Corey', 'Schafer', 50000)\r\n",
    "emp_2 = Employee('Test', 'User', 60000)\r\n",
    "\r\n",
    "print(emp_1.pay)\r\n",
    "print(emp_1.pay)"
   ],
   "outputs": [
    {
     "output_type": "stream",
     "name": "stdout",
     "text": [
      "50000\n",
      "50000\n"
     ]
    }
   ],
   "metadata": {}
  },
  {
   "cell_type": "code",
   "execution_count": 21,
   "source": [
    "emp_1.raise_amount = 1.05\r\n",
    "print(Employee.raise_amount)\r\n",
    "print(emp_1.raise_amount)\r\n",
    "print(emp_2.raise_amount)"
   ],
   "outputs": [
    {
     "output_type": "stream",
     "name": "stdout",
     "text": [
      "1.04\n",
      "1.05\n",
      "1.04\n"
     ]
    }
   ],
   "metadata": {}
  },
  {
   "cell_type": "code",
   "execution_count": 22,
   "source": [
    "emp_1.raise_amount = 1.05\r\n",
    "print(emp_1.__dict__)\r\n",
    "print(Employee.raise_amount)\r\n",
    "print(emp_1.raise_amount)\r\n",
    "print(emp_2.raise_amount)"
   ],
   "outputs": [
    {
     "output_type": "stream",
     "name": "stdout",
     "text": [
      "{'first': 'Corey', 'last': 'Schafer', 'pay': 50000, 'email': 'Corey_Schafer@company.com', 'raise_amount': 1.05}\n",
      "1.04\n",
      "1.05\n",
      "1.04\n"
     ]
    }
   ],
   "metadata": {}
  },
  {
   "cell_type": "code",
   "execution_count": 24,
   "source": [
    "class Employee:\r\n",
    "\r\n",
    "    num_of_emps = 0\r\n",
    "    raise_amount = 1.04\r\n",
    "\r\n",
    "    def __init__(self, first, last, pay):\r\n",
    "        self.first = first\r\n",
    "        self.last = last\r\n",
    "        self.pay = pay\r\n",
    "        self.email = first + '_' + last + '@company.com'\r\n",
    "\r\n",
    "        Employee.num_of_emps += 1\r\n",
    "\r\n",
    "    def fullname(self):\r\n",
    "        return '{} {}'.format(self.first, self.last)\r\n",
    "    def apply_raise(self):\r\n",
    "        self.pay = int(self.pay * self.raise_amount)\r\n",
    "\r\n",
    "emp_1 = Employee('Corey', 'Schafer', 50000)\r\n",
    "emp_2 = Employee('Test', 'User', 60000)\r\n",
    "\r\n",
    "print(Employee.num_of_emps)"
   ],
   "outputs": [
    {
     "output_type": "stream",
     "name": "stdout",
     "text": [
      "2\n"
     ]
    }
   ],
   "metadata": {}
  },
  {
   "cell_type": "code",
   "execution_count": 29,
   "source": [
    "class Employee:\r\n",
    "\r\n",
    "    num_of_emps = 0\r\n",
    "    raise_amount = 1.04\r\n",
    "\r\n",
    "    def __init__(self, first, last, pay):\r\n",
    "        self.first = first\r\n",
    "        self.last = last\r\n",
    "        self.pay = pay\r\n",
    "        self.email = first + '_' + last + '@company.com'\r\n",
    "\r\n",
    "        Employee.num_of_emps += 1\r\n",
    "\r\n",
    "    def fullname(self):\r\n",
    "        return '{} {}'.format(self.first, self.last)\r\n",
    "    def apply_raise(self):\r\n",
    "        self.pay = int(self.pay * self.raise_amount)\r\n",
    "\r\n",
    "print(Employee.num_of_emps)\r\n",
    "\r\n",
    "emp_1 = Employee('Corey', 'Schafer', 50000)\r\n",
    "emp_2 = Employee('Test', 'User', 60000)\r\n",
    "\r\n",
    "print(Employee.num_of_emps)"
   ],
   "outputs": [
    {
     "output_type": "stream",
     "name": "stdout",
     "text": [
      "0\n",
      "2\n"
     ]
    }
   ],
   "metadata": {}
  },
  {
   "cell_type": "code",
   "execution_count": null,
   "source": [
    "#video3"
   ],
   "outputs": [],
   "metadata": {}
  },
  {
   "cell_type": "code",
   "execution_count": 31,
   "source": [
    "class Employee:\r\n",
    "\r\n",
    "    num_of_emps = 0\r\n",
    "    raise_amt = 1.04\r\n",
    "\r\n",
    "    def __init__(self, first, last, pay):\r\n",
    "        self.first = first\r\n",
    "        self.last = last\r\n",
    "        self.pay = pay\r\n",
    "        self.email = first + '_' + last + '@company.com'\r\n",
    "\r\n",
    "        Employee.num_of_emps += 1\r\n",
    "\r\n",
    "    def fullname(self):\r\n",
    "        return '{} {}'.format(self.first, self.last)\r\n",
    "    def apply_raise(self):\r\n",
    "        self.pay = int(self.pay * self.raise_amt)\r\n",
    "    \r\n",
    "    @classmethod\r\n",
    "    def set_raise_amt(cls, amount):\r\n",
    "        cls.raise_amt = amount\r\n",
    "\r\n",
    "emp_1 = Employee('Corey', 'Schafer', 50000)\r\n",
    "emp_2 = Employee('Test', 'User', 60000)\r\n",
    "\r\n",
    "print(Employee.raise_amt)\r\n",
    "print(emp_1.raise_amt)\r\n",
    "print(emp_2.raise_amt)"
   ],
   "outputs": [
    {
     "output_type": "stream",
     "name": "stdout",
     "text": [
      "1.04\n",
      "1.04\n",
      "1.04\n"
     ]
    }
   ],
   "metadata": {}
  },
  {
   "cell_type": "code",
   "execution_count": 32,
   "source": [
    "class Employee:\r\n",
    "\r\n",
    "    num_of_emps = 0\r\n",
    "    raise_amt = 1.04\r\n",
    "\r\n",
    "    def __init__(self, first, last, pay):\r\n",
    "        self.first = first\r\n",
    "        self.last = last\r\n",
    "        self.pay = pay\r\n",
    "        self.email = first + '_' + last + '@company.com'\r\n",
    "\r\n",
    "        Employee.num_of_emps += 1\r\n",
    "\r\n",
    "    def fullname(self):\r\n",
    "        return '{} {}'.format(self.first, self.last)\r\n",
    "    def apply_raise(self):\r\n",
    "        self.pay = int(self.pay * self.raise_amt)\r\n",
    "    \r\n",
    "    @classmethod\r\n",
    "    def set_raise_amt(cls, amount):\r\n",
    "        cls.raise_amt = amount\r\n",
    "\r\n",
    "emp_1 = Employee('Corey', 'Schafer', 50000)\r\n",
    "emp_2 = Employee('Test', 'User', 60000)\r\n",
    "\r\n",
    "Employee.set_raise_amt(1.05)\r\n",
    "\r\n",
    "print(Employee.raise_amt)\r\n",
    "print(emp_1.raise_amt)\r\n",
    "print(emp_2.raise_amt)"
   ],
   "outputs": [
    {
     "output_type": "stream",
     "name": "stdout",
     "text": [
      "1.05\n",
      "1.05\n",
      "1.05\n"
     ]
    }
   ],
   "metadata": {}
  },
  {
   "cell_type": "code",
   "execution_count": 33,
   "source": [
    "class Employee:\r\n",
    "\r\n",
    "    num_of_emps = 0\r\n",
    "    raise_amt = 1.04\r\n",
    "\r\n",
    "    def __init__(self, first, last, pay):\r\n",
    "        self.first = first\r\n",
    "        self.last = last\r\n",
    "        self.pay = pay\r\n",
    "        self.email = first + '_' + last + '@company.com'\r\n",
    "\r\n",
    "        Employee.num_of_emps += 1\r\n",
    "\r\n",
    "    def fullname(self):\r\n",
    "        return '{} {}'.format(self.first, self.last)\r\n",
    "    def apply_raise(self):\r\n",
    "        self.pay = int(self.pay * self.raise_amt)\r\n",
    "    \r\n",
    "    @classmethod\r\n",
    "    def set_raise_amt(cls, amount):\r\n",
    "        cls.raise_amt = amount\r\n",
    "\r\n",
    "emp_1 = Employee('Corey', 'Schafer', 50000)\r\n",
    "emp_2 = Employee('Test', 'User', 60000)\r\n",
    "\r\n",
    "emp_str_1 = 'John-Doe-70000'\r\n",
    "emp_str_2 = ' Steve-Smith-30000'\r\n",
    "emp_str_3 = 'Jane-Doe-90000'\r\n",
    "\r\n",
    "first, last, pay = emp_str_1.split('-')\r\n",
    "\r\n",
    "new_emp_1 = Employee(first, last, pay)\r\n",
    "\r\n",
    "print(new_emp_1.email)\r\n",
    "print(new_emp_1.pay)"
   ],
   "outputs": [
    {
     "output_type": "stream",
     "name": "stdout",
     "text": [
      "John_Doe@company.com\n",
      "70000\n"
     ]
    }
   ],
   "metadata": {}
  },
  {
   "cell_type": "code",
   "execution_count": 34,
   "source": [
    "class Employee:\r\n",
    "\r\n",
    "    num_of_emps = 0\r\n",
    "    raise_amt = 1.04\r\n",
    "\r\n",
    "    def __init__(self, first, last, pay):\r\n",
    "        self.first = first\r\n",
    "        self.last = last\r\n",
    "        self.pay = pay\r\n",
    "        self.email = first + '_' + last + '@company.com'\r\n",
    "\r\n",
    "        Employee.num_of_emps += 1\r\n",
    "\r\n",
    "    def fullname(self):\r\n",
    "        return '{} {}'.format(self.first, self.last)\r\n",
    "    def apply_raise(self):\r\n",
    "        self.pay = int(self.pay * self.raise_amt)\r\n",
    "    \r\n",
    "    @classmethod\r\n",
    "    def set_raise_amt(cls, amount):\r\n",
    "        cls.raise_amt = amount\r\n",
    "\r\n",
    "    @classmethod\r\n",
    "    def from_string(cls, emp_str):\r\n",
    "        first, last, pay = emp_str.split('-')\r\n",
    "        return cls(first, last, pay)\r\n",
    "\r\n",
    "emp_1 = Employee('Corey', 'Schafer', 50000)\r\n",
    "emp_2 = Employee('Test', 'User', 60000)\r\n",
    "\r\n",
    "emp_str_1 = 'John-Doe-70000'\r\n",
    "emp_str_2 = ' Steve-Smith-30000'\r\n",
    "emp_str_3 = 'Jane-Doe-90000'\r\n",
    "\r\n",
    "new_emp_1 = Employee.from_string(emp_str_1)\r\n",
    "\r\n",
    "# first, last, pay = emp_str_1.split('-')\r\n",
    "\r\n",
    "\r\n",
    "print(new_emp_1.email)\r\n",
    "print(new_emp_1.pay)"
   ],
   "outputs": [
    {
     "output_type": "stream",
     "name": "stdout",
     "text": [
      "John_Doe@company.com\n",
      "70000\n"
     ]
    }
   ],
   "metadata": {}
  },
  {
   "cell_type": "code",
   "execution_count": 35,
   "source": [
    "class Employee:\r\n",
    "\r\n",
    "    num_of_emps = 0\r\n",
    "    raise_amt = 1.04\r\n",
    "\r\n",
    "    def __init__(self, first, last, pay):\r\n",
    "        self.first = first\r\n",
    "        self.last = last\r\n",
    "        self.pay = pay\r\n",
    "        self.email = first + '_' + last + '@company.com'\r\n",
    "\r\n",
    "        Employee.num_of_emps += 1\r\n",
    "\r\n",
    "    def fullname(self):\r\n",
    "        return '{} {}'.format(self.first, self.last)\r\n",
    "    def apply_raise(self):\r\n",
    "        self.pay = int(self.pay * self.raise_amt)\r\n",
    "    \r\n",
    "    @classmethod\r\n",
    "    def set_raise_amt(cls, amount):\r\n",
    "        cls.raise_amt = amount\r\n",
    "\r\n",
    "    @classmethod\r\n",
    "    def from_string(cls, emp_str):\r\n",
    "        first, last, pay = emp_str.split('-')\r\n",
    "        return cls(first, last, pay)\r\n",
    "\r\n",
    "    @staticmethod\r\n",
    "    def is_workday(day):\r\n",
    "        if day.weekday() == 5 or day.weekday() == 6:\r\n",
    "            return False\r\n",
    "        return True\r\n",
    "\r\n",
    "emp_1 = Employee('Corey', 'Schafer', 50000)\r\n",
    "emp_2 = Employee('Test', 'User', 60000)\r\n",
    "\r\n",
    "import datetime\r\n",
    "my_date = datetime.date(2016, 7, 10)\r\n",
    "\r\n",
    "print(Employee.is_workday(my_date))"
   ],
   "outputs": [
    {
     "output_type": "stream",
     "name": "stdout",
     "text": [
      "False\n"
     ]
    }
   ],
   "metadata": {}
  },
  {
   "cell_type": "code",
   "execution_count": 36,
   "source": [
    "class Employee:\r\n",
    "\r\n",
    "    num_of_emps = 0\r\n",
    "    raise_amt = 1.04\r\n",
    "\r\n",
    "    def __init__(self, first, last, pay):\r\n",
    "        self.first = first\r\n",
    "        self.last = last\r\n",
    "        self.pay = pay\r\n",
    "        self.email = first + '_' + last + '@company.com'\r\n",
    "\r\n",
    "        Employee.num_of_emps += 1\r\n",
    "\r\n",
    "    def fullname(self):\r\n",
    "        return '{} {}'.format(self.first, self.last)\r\n",
    "    def apply_raise(self):\r\n",
    "        self.pay = int(self.pay * self.raise_amt)\r\n",
    "    \r\n",
    "    @classmethod\r\n",
    "    def set_raise_amt(cls, amount):\r\n",
    "        cls.raise_amt = amount\r\n",
    "\r\n",
    "    @classmethod\r\n",
    "    def from_string(cls, emp_str):\r\n",
    "        first, last, pay = emp_str.split('-')\r\n",
    "        return cls(first, last, pay)\r\n",
    "\r\n",
    "    @staticmethod\r\n",
    "    def is_workday(day):\r\n",
    "        if day.weekday() == 5 or day.weekday() == 6:\r\n",
    "            return False\r\n",
    "        return True\r\n",
    "\r\n",
    "emp_1 = Employee('Corey', 'Schafer', 50000)\r\n",
    "emp_2 = Employee('Test', 'User', 60000)\r\n",
    "\r\n",
    "import datetime\r\n",
    "my_date = datetime.date(2016, 7, 11)\r\n",
    "\r\n",
    "print(Employee.is_workday(my_date))"
   ],
   "outputs": [
    {
     "output_type": "stream",
     "name": "stdout",
     "text": [
      "True\n"
     ]
    }
   ],
   "metadata": {}
  },
  {
   "cell_type": "code",
   "execution_count": null,
   "source": [
    "#video 4"
   ],
   "outputs": [],
   "metadata": {}
  },
  {
   "cell_type": "code",
   "execution_count": 37,
   "source": [
    "class Employee:\r\n",
    "\r\n",
    "    raise_amt = 1.04\r\n",
    "\r\n",
    "    def __init__(self, first, last, pay):\r\n",
    "        self.first = first\r\n",
    "        self.last = last\r\n",
    "        self.pay = pay\r\n",
    "        self.email = first + '_' + last + '@email.com'\r\n",
    "\r\n",
    "\r\n",
    "    def fullname(self):\r\n",
    "        return '{} {}'.format(self.first, self.last)\r\n",
    "\r\n",
    "    def apply_raise(self):\r\n",
    "        self.pay = int(self.pay * self.raise_amt)\r\n",
    "    \r\n",
    "\r\n",
    "class Developer(Employee):\r\n",
    "    pass\r\n",
    "\r\n",
    "dev_1 = Employee('Corey', 'Schafer', 50000)\r\n",
    "dev_2 = Employee('Test', 'User', 60000)\r\n",
    "\r\n",
    "print(dev_1.email)\r\n",
    "print(dev_2.email)"
   ],
   "outputs": [
    {
     "output_type": "stream",
     "name": "stdout",
     "text": [
      "Corey_Schafer@email.com\n",
      "Test_User@email.com\n"
     ]
    }
   ],
   "metadata": {}
  },
  {
   "cell_type": "code",
   "execution_count": 38,
   "source": [
    "class Employee:\r\n",
    "\r\n",
    "    raise_amt = 1.04\r\n",
    "\r\n",
    "    def __init__(self, first, last, pay):\r\n",
    "        self.first = first\r\n",
    "        self.last = last\r\n",
    "        self.pay = pay\r\n",
    "        self.email = first + '_' + last + '@email.com'\r\n",
    "\r\n",
    "\r\n",
    "    def fullname(self):\r\n",
    "        return '{} {}'.format(self.first, self.last)\r\n",
    "\r\n",
    "    def apply_raise(self):\r\n",
    "        self.pay = int(self.pay * self.raise_amt)\r\n",
    "    \r\n",
    "\r\n",
    "class Developer(Employee):\r\n",
    "    pass\r\n",
    "\r\n",
    "dev_1 = Developer('Corey', 'Schafer', 50000)\r\n",
    "dev_2 = Developer('Test', 'User', 60000)\r\n",
    "\r\n",
    "print(dev_1.email)\r\n",
    "print(dev_2.email)"
   ],
   "outputs": [
    {
     "output_type": "stream",
     "name": "stdout",
     "text": [
      "Corey_Schafer@email.com\n",
      "Test_User@email.com\n"
     ]
    }
   ],
   "metadata": {}
  },
  {
   "cell_type": "code",
   "execution_count": 39,
   "source": [
    "class Employee:\r\n",
    "\r\n",
    "    raise_amt = 1.04\r\n",
    "\r\n",
    "    def __init__(self, first, last, pay):\r\n",
    "        self.first = first\r\n",
    "        self.last = last\r\n",
    "        self.pay = pay\r\n",
    "        self.email = first + '_' + last + '@email.com'\r\n",
    "\r\n",
    "\r\n",
    "    def fullname(self):\r\n",
    "        return '{} {}'.format(self.first, self.last)\r\n",
    "\r\n",
    "    def apply_raise(self):\r\n",
    "        self.pay = int(self.pay * self.raise_amt)\r\n",
    "    \r\n",
    "\r\n",
    "class Developer(Employee):\r\n",
    "    pass\r\n",
    "\r\n",
    "dev_1 = Developer('Corey', 'Schafer', 50000)\r\n",
    "dev_2 = Developer('Test', 'User', 60000)\r\n",
    "\r\n",
    "print(help(Developer))"
   ],
   "outputs": [
    {
     "output_type": "stream",
     "name": "stdout",
     "text": [
      "Help on class Developer in module __main__:\n",
      "\n",
      "class Developer(Employee)\n",
      " |  Developer(first, last, pay)\n",
      " |  \n",
      " |  Method resolution order:\n",
      " |      Developer\n",
      " |      Employee\n",
      " |      builtins.object\n",
      " |  \n",
      " |  Methods inherited from Employee:\n",
      " |  \n",
      " |  __init__(self, first, last, pay)\n",
      " |      Initialize self.  See help(type(self)) for accurate signature.\n",
      " |  \n",
      " |  apply_raise(self)\n",
      " |  \n",
      " |  fullname(self)\n",
      " |  \n",
      " |  ----------------------------------------------------------------------\n",
      " |  Data descriptors inherited from Employee:\n",
      " |  \n",
      " |  __dict__\n",
      " |      dictionary for instance variables (if defined)\n",
      " |  \n",
      " |  __weakref__\n",
      " |      list of weak references to the object (if defined)\n",
      " |  \n",
      " |  ----------------------------------------------------------------------\n",
      " |  Data and other attributes inherited from Employee:\n",
      " |  \n",
      " |  raise_amt = 1.04\n",
      "\n",
      "None\n"
     ]
    }
   ],
   "metadata": {}
  },
  {
   "cell_type": "code",
   "execution_count": 40,
   "source": [
    "class Employee:\r\n",
    "\r\n",
    "    raise_amt = 1.04\r\n",
    "\r\n",
    "    def __init__(self, first, last, pay):\r\n",
    "        self.first = first\r\n",
    "        self.last = last\r\n",
    "        self.pay = pay\r\n",
    "        self.email = first + '_' + last + '@email.com'\r\n",
    "\r\n",
    "\r\n",
    "    def fullname(self):\r\n",
    "        return '{} {}'.format(self.first, self.last)\r\n",
    "\r\n",
    "    def apply_raise(self):\r\n",
    "        self.pay = int(self.pay * self.raise_amt)\r\n",
    "    \r\n",
    "\r\n",
    "class Developer(Employee):\r\n",
    "    pass\r\n",
    "\r\n",
    "dev_1 = Developer('Corey', 'Schafer', 50000)\r\n",
    "dev_2 = Developer('Test', 'User', 60000)\r\n",
    "\r\n",
    "print(dev_1.pay)\r\n",
    "dev_1.apply_raise()\r\n",
    "print(dev_1.pay)\r\n"
   ],
   "outputs": [
    {
     "output_type": "stream",
     "name": "stdout",
     "text": [
      "50000\n",
      "52000\n"
     ]
    }
   ],
   "metadata": {}
  },
  {
   "cell_type": "code",
   "execution_count": 41,
   "source": [
    "class developer(Employee):\r\n",
    "    raise_amt = 1.10\r\n",
    "\r\n",
    "print(dev_1.pay)\r\n",
    "dev_1.apply_raise()\r\n",
    "print(dev_1.pay)"
   ],
   "outputs": [
    {
     "output_type": "stream",
     "name": "stdout",
     "text": [
      "52000\n",
      "54080\n"
     ]
    }
   ],
   "metadata": {}
  },
  {
   "cell_type": "code",
   "execution_count": 42,
   "source": [
    "dev_1 = Employee('Corey', 'Schafer', 50000)\r\n",
    "dev_2 = Developer('Test', 'User', 60000)\r\n",
    "\r\n",
    "print(dev_1.pay)\r\n",
    "dev_1.apply_raise()\r\n",
    "print(dev_1.pay)"
   ],
   "outputs": [
    {
     "output_type": "stream",
     "name": "stdout",
     "text": [
      "50000\n",
      "52000\n"
     ]
    }
   ],
   "metadata": {}
  },
  {
   "cell_type": "code",
   "execution_count": 43,
   "source": [
    "class Employee:\r\n",
    "\r\n",
    "    raise_amt = 1.04\r\n",
    "\r\n",
    "    def __init__(self, first, last, pay):\r\n",
    "        self.first = first\r\n",
    "        self.last = last\r\n",
    "        self.pay = pay\r\n",
    "        self.email = first + '_' + last + '@email.com'\r\n",
    "\r\n",
    "\r\n",
    "    def fullname(self):\r\n",
    "        return '{} {}'.format(self.first, self.last)\r\n",
    "\r\n",
    "    def apply_raise(self):\r\n",
    "        self.pay = int(self.pay * self.raise_amt)\r\n",
    "    \r\n",
    "\r\n",
    "class Developer(Employee):\r\n",
    "    raise_amt = 1.10\r\n",
    "\r\n",
    "    def __init__(self, first, last, pay, prog_lang):\r\n",
    "        super().__init__(first, last, pay)\r\n",
    "        self.prog_lang = prog_lang\r\n",
    "\r\n",
    "dev_1 = Developer('Corey', 'Schafer', 50000, 'Python')\r\n",
    "dev_2 = Developer('Test', 'User', 60000, 'Java')\r\n",
    "\r\n",
    "print(dev_1.email)\r\n",
    "print(dev_1.prog_lang)\r\n",
    "\r\n",
    "# print(dev_1.pay)\r\n",
    "# dev_1.apply_raise()\r\n",
    "# print(dev_1.pay)"
   ],
   "outputs": [
    {
     "output_type": "stream",
     "name": "stdout",
     "text": [
      "Corey_Schafer@email.com\n",
      "Python\n"
     ]
    }
   ],
   "metadata": {}
  },
  {
   "cell_type": "code",
   "execution_count": 44,
   "source": [
    "class Manager(Employee):\r\n",
    "    def __init__(self, first, last, pay, employees=None):\r\n",
    "        super().__init__(first, last, pay)\r\n",
    "        if employees is None:\r\n",
    "            self.employees = []\r\n",
    "        else:\r\n",
    "            self.employees = employees\r\n",
    "\r\n",
    "def add_emp(self, emp):\r\n",
    "    if emp not in self.employees:\r\n",
    "        self.employees.append(emp)\r\n",
    "\r\n",
    "def remove_emp(self, emp):\r\n",
    "    if emp not in self.employees:\r\n",
    "        self.employees.remove(emp)\r\n",
    "\r\n",
    "def print_emps(self):\r\n",
    "    for emp in self.employees:\r\n",
    "        print('-->', emp.fullname())\r\n",
    "\r\n",
    "dev_1 = Developer('Corey', 'Schafer', 50000, 'Python')\r\n",
    "dev_2 = Developer('Test', 'User', 60000, 'Java')\r\n",
    "\r\n",
    "mgr_1 = Manager('Sue', 'Smith', 90000, [dev_1])\r\n",
    "\r\n",
    "print(mgr_1.email)"
   ],
   "outputs": [
    {
     "output_type": "stream",
     "name": "stdout",
     "text": [
      "Sue_Smith@email.com\n"
     ]
    }
   ],
   "metadata": {}
  },
  {
   "cell_type": "code",
   "execution_count": 58,
   "source": [
    "class Manager(Employee):\r\n",
    "    def __init__(self, first, last, pay, employees=None):\r\n",
    "        super().__init__(first, last, pay)\r\n",
    "        if employees is None:\r\n",
    "            self.employees = []\r\n",
    "        else:\r\n",
    "            self.employees = employees\r\n",
    "\r\n",
    "    def add_emp(self, emp):\r\n",
    "        if emp not in self.employees:\r\n",
    "            self.employees.append(emp)\r\n",
    "\r\n",
    "    def remove_emp(self, emp):\r\n",
    "        if emp in self.employees:\r\n",
    "            self.employees.remove(emp)\r\n",
    "\r\n",
    "    def print_emps(self):\r\n",
    "        for emp in self.employees:\r\n",
    "            print('-->', emp.fullname())\r\n",
    "\r\n",
    "dev_1 = Developer('Corey', 'Schafer', 50000, 'Python')\r\n",
    "dev_2 = Developer('Test', 'User', 60000, 'Java')\r\n",
    "\r\n",
    "mgr_1 = Manager('Sue', 'Smith', 90000, [dev_1])\r\n",
    "\r\n",
    "print(mgr_1.email)\r\n",
    "\r\n",
    "mgr_1.print_emps()"
   ],
   "outputs": [
    {
     "output_type": "stream",
     "name": "stdout",
     "text": [
      "Sue_Smith@email.com\n",
      "--> Corey Schafer\n"
     ]
    }
   ],
   "metadata": {}
  },
  {
   "cell_type": "code",
   "execution_count": 61,
   "source": [
    "class Manager(Employee):\r\n",
    "    def __init__(self, first, last, pay, employees=None):\r\n",
    "        super().__init__(first, last, pay)\r\n",
    "        if employees is None:\r\n",
    "            self.employees = []\r\n",
    "        else:\r\n",
    "            self.employees = employees\r\n",
    "\r\n",
    "    def add_emp(self, emp):\r\n",
    "        if emp not in self.employees:\r\n",
    "            self.employees.append(emp)\r\n",
    "\r\n",
    "    def remove_emp(self, emp):\r\n",
    "        if emp in self.employees:\r\n",
    "            self.employees.remove(emp)\r\n",
    "\r\n",
    "    def print_emps(self):\r\n",
    "        for emp in self.employees:\r\n",
    "            print('-->', emp.fullname())\r\n",
    "\r\n",
    "dev_1 = Developer('Corey', 'Schafer', 50000, 'Python')\r\n",
    "dev_2 = Developer('Test', 'User', 60000, 'Java')\r\n",
    "\r\n",
    "mgr_1 = Manager('Sue', 'Smith', 90000, [dev_1])\r\n",
    "\r\n",
    "print(mgr_1.email)\r\n",
    "\r\n",
    "mgr_1.add_emp(dev_2)\r\n",
    "mgr_1.print_emps()"
   ],
   "outputs": [
    {
     "output_type": "stream",
     "name": "stdout",
     "text": [
      "Sue_Smith@email.com\n",
      "--> Corey Schafer\n",
      "--> Test User\n"
     ]
    }
   ],
   "metadata": {}
  },
  {
   "cell_type": "code",
   "execution_count": 62,
   "source": [
    "print(mgr_1.email)\r\n",
    "\r\n",
    "mgr_1.add_emp(dev_2)\r\n",
    "mgr_1.remove_emp(dev_1)\r\n",
    "mgr_1.print_emps()"
   ],
   "outputs": [
    {
     "output_type": "stream",
     "name": "stdout",
     "text": [
      "Sue_Smith@email.com\n",
      "--> Test User\n"
     ]
    }
   ],
   "metadata": {}
  },
  {
   "cell_type": "code",
   "execution_count": 63,
   "source": [
    "class Manager(Employee):\r\n",
    "    def __init__(self, first, last, pay, employees=None):\r\n",
    "        super().__init__(first, last, pay)\r\n",
    "        if employees is None:\r\n",
    "            self.employees = []\r\n",
    "        else:\r\n",
    "            self.employees = employees\r\n",
    "\r\n",
    "    def add_emp(self, emp):\r\n",
    "        if emp not in self.employees:\r\n",
    "            self.employees.append(emp)\r\n",
    "\r\n",
    "    def remove_emp(self, emp):\r\n",
    "        if emp in self.employees:\r\n",
    "            self.employees.remove(emp)\r\n",
    "\r\n",
    "    def print_emps(self):\r\n",
    "        for emp in self.employees:\r\n",
    "            print('-->', emp.fullname())\r\n",
    "\r\n",
    "dev_1 = Developer('Corey', 'Schafer', 50000, 'Python')\r\n",
    "dev_2 = Developer('Test', 'User', 60000, 'Java')\r\n",
    "\r\n",
    "mgr_1 = Manager('Sue', 'Smith', 90000, [dev_1])\r\n",
    "\r\n",
    "print(isinstance(mgr_1, Employee))"
   ],
   "outputs": [
    {
     "output_type": "stream",
     "name": "stdout",
     "text": [
      "True\n"
     ]
    }
   ],
   "metadata": {}
  },
  {
   "cell_type": "code",
   "execution_count": 64,
   "source": [
    "print(isinstance(mgr_1, Developer))"
   ],
   "outputs": [
    {
     "output_type": "stream",
     "name": "stdout",
     "text": [
      "False\n"
     ]
    }
   ],
   "metadata": {}
  },
  {
   "cell_type": "code",
   "execution_count": 65,
   "source": [
    "print(issubclass(Developer, Employee))"
   ],
   "outputs": [
    {
     "output_type": "stream",
     "name": "stdout",
     "text": [
      "True\n"
     ]
    }
   ],
   "metadata": {}
  },
  {
   "cell_type": "code",
   "execution_count": 66,
   "source": [
    "print(issubclass(Manager, Employee))"
   ],
   "outputs": [
    {
     "output_type": "stream",
     "name": "stdout",
     "text": [
      "True\n"
     ]
    }
   ],
   "metadata": {}
  },
  {
   "cell_type": "code",
   "execution_count": 67,
   "source": [
    "print(issubclass(Manager, Developer))"
   ],
   "outputs": [
    {
     "output_type": "stream",
     "name": "stdout",
     "text": [
      "False\n"
     ]
    }
   ],
   "metadata": {}
  },
  {
   "cell_type": "code",
   "execution_count": null,
   "source": [
    "#video 5"
   ],
   "outputs": [],
   "metadata": {}
  },
  {
   "cell_type": "code",
   "execution_count": 68,
   "source": [
    "class Employee:\r\n",
    "\r\n",
    "    raise_amt = 1.04\r\n",
    "\r\n",
    "    def __init__(self, first, last, pay):\r\n",
    "        self.first = first\r\n",
    "        self.last = last\r\n",
    "        self.pay = pay\r\n",
    "        self.email = first + '_' + last + '@email.com'\r\n",
    "\r\n",
    "\r\n",
    "    def fullname(self):\r\n",
    "        return '{} {}'.format(self.first, self.last)\r\n",
    "\r\n",
    "    def apply_raise(self):\r\n",
    "        self.pay = int(self.pay * self.raise_amt)\r\n",
    "    \r\n",
    "\r\n",
    "dev_1 = Employee('Corey', 'Schafer', 50000)\r\n",
    "dev_2 = Employee('Test', 'User', 60000)\r\n",
    "\r\n",
    "print(1 +2)\r\n",
    "print('a' + 'b')"
   ],
   "outputs": [
    {
     "output_type": "stream",
     "name": "stdout",
     "text": [
      "3\n",
      "ab\n"
     ]
    }
   ],
   "metadata": {}
  },
  {
   "cell_type": "code",
   "execution_count": 69,
   "source": [
    "print(emp_1)"
   ],
   "outputs": [
    {
     "output_type": "stream",
     "name": "stdout",
     "text": [
      "<__main__.Employee object at 0x000001D6A19BA910>\n"
     ]
    }
   ],
   "metadata": {}
  },
  {
   "cell_type": "code",
   "execution_count": 76,
   "source": [
    "class Employee:\r\n",
    "\r\n",
    "    raise_amt = 1.04\r\n",
    "\r\n",
    "    def __init__(self, first, last, pay):\r\n",
    "        self.first = first\r\n",
    "        self.last = last\r\n",
    "        self.pay = pay\r\n",
    "        self.email = first + '_' + last + '@email.com'\r\n",
    "\r\n",
    "\r\n",
    "    def fullname(self):\r\n",
    "        return '{} {}'.format(self.first, self.last)\r\n",
    "\r\n",
    "    def apply_raise(self):\r\n",
    "        self.pay = int(self.pay * self.raise_amt)\r\n",
    "\r\n",
    "    def __repr__(self):\r\n",
    "        return \"Employee('{}', '{}', {})\".format(self.first, self.last, self.pay)\r\n",
    "    \r\n",
    "\r\n",
    "emp_1 = Employee('Corey', 'Schafer', 50000)\r\n",
    "emp_2 = Employee('Test', 'User', 60000)\r\n",
    "\r\n",
    "print(emp_1)    "
   ],
   "outputs": [
    {
     "output_type": "stream",
     "name": "stdout",
     "text": [
      "Employee('Corey', 'Schafer', 50000)\n"
     ]
    }
   ],
   "metadata": {}
  },
  {
   "cell_type": "code",
   "execution_count": 78,
   "source": [
    "class Employee:\r\n",
    "\r\n",
    "    raise_amt = 1.04\r\n",
    "\r\n",
    "    def __init__(self, first, last, pay):\r\n",
    "        self.first = first\r\n",
    "        self.last = last\r\n",
    "        self.pay = pay\r\n",
    "        self.email = first + '_' + last + '@email.com'\r\n",
    "\r\n",
    "\r\n",
    "    def fullname(self):\r\n",
    "        return '{} {}'.format(self.first, self.last)\r\n",
    "\r\n",
    "    def apply_raise(self):\r\n",
    "        self.pay = int(self.pay * self.raise_amt)\r\n",
    "\r\n",
    "    def __repr__(self):\r\n",
    "        return \"Employee('{}', '{}', {})\".format(self.first, self.last, self.pay)\r\n",
    "    \r\n",
    "    def __str__(self):\r\n",
    "        return '{} - {}'.format(self.fullname(), self.email)\r\n",
    "\r\n",
    "emp_1 = Employee('Corey', 'Schafer', 50000)\r\n",
    "emp_2 = Employee('Test', 'User', 60000)\r\n",
    "\r\n",
    "print(emp_1)\r\n"
   ],
   "outputs": [
    {
     "output_type": "stream",
     "name": "stdout",
     "text": [
      "Corey Schafer - Corey_Schafer@email.com\n"
     ]
    }
   ],
   "metadata": {}
  },
  {
   "cell_type": "code",
   "execution_count": 79,
   "source": [
    "print(repr(emp_1))\r\n",
    "print(str(emp_1))"
   ],
   "outputs": [
    {
     "output_type": "stream",
     "name": "stdout",
     "text": [
      "Employee('Corey', 'Schafer', 50000)\n",
      "Corey Schafer - Corey_Schafer@email.com\n"
     ]
    }
   ],
   "metadata": {}
  },
  {
   "cell_type": "code",
   "execution_count": 80,
   "source": [
    "print(emp_1.__repr__())\r\n",
    "print(emp_1.__str__())"
   ],
   "outputs": [
    {
     "output_type": "stream",
     "name": "stdout",
     "text": [
      "Employee('Corey', 'Schafer', 50000)\n",
      "Corey Schafer - Corey_Schafer@email.com\n"
     ]
    }
   ],
   "metadata": {}
  },
  {
   "cell_type": "code",
   "execution_count": 81,
   "source": [
    "print(int.__add__(1, 2))"
   ],
   "outputs": [
    {
     "output_type": "stream",
     "name": "stdout",
     "text": [
      "3\n"
     ]
    }
   ],
   "metadata": {}
  },
  {
   "cell_type": "code",
   "execution_count": 82,
   "source": [
    "print(str.__add__('a', 'b'))"
   ],
   "outputs": [
    {
     "output_type": "stream",
     "name": "stdout",
     "text": [
      "ab\n"
     ]
    }
   ],
   "metadata": {}
  },
  {
   "cell_type": "code",
   "execution_count": 83,
   "source": [
    "class Employee:\r\n",
    "\r\n",
    "    raise_amt = 1.04\r\n",
    "\r\n",
    "    def __init__(self, first, last, pay):\r\n",
    "        self.first = first\r\n",
    "        self.last = last\r\n",
    "        self.pay = pay\r\n",
    "        self.email = first + '_' + last + '@email.com'\r\n",
    "\r\n",
    "\r\n",
    "    def fullname(self):\r\n",
    "        return '{} {}'.format(self.first, self.last)\r\n",
    "\r\n",
    "    def apply_raise(self):\r\n",
    "        self.pay = int(self.pay * self.raise_amt)\r\n",
    "\r\n",
    "    def __repr__(self):\r\n",
    "        return \"Employee('{}', '{}', {})\".format(self.first, self.last, self.pay)\r\n",
    "\r\n",
    "    def __repr__(self):\r\n",
    "        return \"Employee('{}', '{}', {})\".format(self.first, self.last, self.pay)\r\n",
    "    \r\n",
    "    def __str__(self):\r\n",
    "        return '{} - {}'.format(self.fullname(), self.email)\r\n",
    "    \r\n",
    "    def __add__(self, other):\r\n",
    "        return self.pay + other.pay\r\n",
    "\r\n",
    "emp_1 = Employee('Corey', 'Schafer', 50000)\r\n",
    "emp_2 = Employee('Test', 'User', 60000)\r\n",
    "\r\n",
    "print(emp_1 + emp_2)"
   ],
   "outputs": [
    {
     "output_type": "stream",
     "name": "stdout",
     "text": [
      "110000\n"
     ]
    }
   ],
   "metadata": {}
  },
  {
   "cell_type": "code",
   "execution_count": 84,
   "source": [
    "print(len('test'))"
   ],
   "outputs": [
    {
     "output_type": "stream",
     "name": "stdout",
     "text": [
      "4\n"
     ]
    }
   ],
   "metadata": {}
  },
  {
   "cell_type": "code",
   "execution_count": 85,
   "source": [
    "print('test'.__len__())"
   ],
   "outputs": [
    {
     "output_type": "stream",
     "name": "stdout",
     "text": [
      "4\n"
     ]
    }
   ],
   "metadata": {}
  },
  {
   "cell_type": "code",
   "execution_count": 86,
   "source": [
    "class Employee:\r\n",
    "\r\n",
    "    raise_amt = 1.04\r\n",
    "\r\n",
    "    def __init__(self, first, last, pay):\r\n",
    "        self.first = first\r\n",
    "        self.last = last\r\n",
    "        self.pay = pay\r\n",
    "        self.email = first + '_' + last + '@email.com'\r\n",
    "\r\n",
    "\r\n",
    "    def fullname(self):\r\n",
    "        return '{} {}'.format(self.first, self.last)\r\n",
    "\r\n",
    "    def apply_raise(self):\r\n",
    "        self.pay = int(self.pay * self.raise_amt)\r\n",
    "\r\n",
    "    def __repr__(self):\r\n",
    "        return \"Employee('{}', '{}', {})\".format(self.first, self.last, self.pay)\r\n",
    "\r\n",
    "    def __repr__(self):\r\n",
    "        return \"Employee('{}', '{}', {})\".format(self.first, self.last, self.pay)\r\n",
    "    \r\n",
    "    def __str__(self):\r\n",
    "        return '{} - {}'.format(self.fullname(), self.email)\r\n",
    "    \r\n",
    "    def __add__(self, other):\r\n",
    "        return self.pay + other.pay\r\n",
    "\r\n",
    "    def __len__(self):\r\n",
    "        return len(self.fullname())\r\n",
    "\r\n",
    "emp_1 = Employee('Corey', 'Schafer', 50000)\r\n",
    "emp_2 = Employee('Test', 'User', 60000)\r\n",
    "\r\n",
    "print(len(emp_1))"
   ],
   "outputs": [
    {
     "output_type": "stream",
     "name": "stdout",
     "text": [
      "13\n"
     ]
    }
   ],
   "metadata": {}
  },
  {
   "cell_type": "code",
   "execution_count": null,
   "source": [
    "#video 6"
   ],
   "outputs": [],
   "metadata": {}
  },
  {
   "cell_type": "code",
   "execution_count": 90,
   "source": [
    "class Employee:\r\n",
    "\r\n",
    "    def __init__(self, first, last):\r\n",
    "        self.first = first\r\n",
    "        self.last = last\r\n",
    "        self.pay = pay\r\n",
    "        self.email = first + '_' + last + '@email.com'\r\n",
    "\r\n",
    "    def fullname(self):\r\n",
    "        return '{} {}'.format(self.first, self.last)\r\n",
    "\r\n",
    "emp_1 = Employee('John', 'Smith')\r\n",
    "\r\n",
    "print(emp_1.first)\r\n",
    "print(emp_1.email)\r\n",
    "print(emp_1.fullname())"
   ],
   "outputs": [
    {
     "output_type": "stream",
     "name": "stdout",
     "text": [
      "John\n",
      "John_Smith@email.com\n",
      "John Smith\n"
     ]
    }
   ],
   "metadata": {}
  },
  {
   "cell_type": "code",
   "execution_count": 96,
   "source": [
    "class Employee:\r\n",
    "\r\n",
    "    def __init__(self, first, last):\r\n",
    "        self.first = first\r\n",
    "        self.last = last\r\n",
    "\r\n",
    "    def email(self):\r\n",
    "        return '{}.{}@email.com'.format(self.first, self.last)\r\n",
    "\r\n",
    "    def fullname(self):\r\n",
    "        return '{} {}'.format(self.first, self.last)\r\n",
    "\r\n",
    "emp_1 = Employee('John', 'Smith')\r\n",
    "\r\n",
    "emp_1.first = 'Jim'\r\n",
    "\r\n",
    "print(emp_1.first)\r\n",
    "print(emp_1.email())\r\n",
    "print(emp_1.fullname())"
   ],
   "outputs": [
    {
     "output_type": "stream",
     "name": "stdout",
     "text": [
      "Jim\n",
      "Jim.Smith@email.com\n",
      "Jim Smith\n"
     ]
    }
   ],
   "metadata": {}
  },
  {
   "cell_type": "code",
   "execution_count": 97,
   "source": [
    "class Employee:\r\n",
    "\r\n",
    "    def __init__(self, first, last):\r\n",
    "        self.first = first\r\n",
    "        self.last = last\r\n",
    "    @property\r\n",
    "    def email(self):\r\n",
    "        return '{}.{}@email.com'.format(self.first, self.last)\r\n",
    "\r\n",
    "    def fullname(self):\r\n",
    "        return '{} {}'.format(self.first, self.last)\r\n",
    "\r\n",
    "emp_1 = Employee('John', 'Smith')\r\n",
    "\r\n",
    "emp_1.first = 'Jim'\r\n",
    "\r\n",
    "print(emp_1.first)\r\n",
    "print(emp_1.email)\r\n",
    "print(emp_1.fullname)"
   ],
   "outputs": [
    {
     "output_type": "stream",
     "name": "stdout",
     "text": [
      "Jim\n",
      "Jim.Smith@email.com\n",
      "<bound method Employee.fullname of <__main__.Employee object at 0x000001D6A189F550>>\n"
     ]
    }
   ],
   "metadata": {}
  },
  {
   "cell_type": "code",
   "execution_count": 98,
   "source": [
    "class Employee:\r\n",
    "\r\n",
    "    def __init__(self, first, last):\r\n",
    "        self.first = first\r\n",
    "        self.last = last\r\n",
    "    \r\n",
    "    @property\r\n",
    "    def email(self):\r\n",
    "        return '{}.{}@email.com'.format(self.first, self.last)\r\n",
    "\r\n",
    "    @property\r\n",
    "    def fullname(self):\r\n",
    "        return '{} {}'.format(self.first, self.last)\r\n",
    "\r\n",
    "emp_1 = Employee('John', 'Smith')\r\n",
    "\r\n",
    "emp_1.first = 'Jim'\r\n",
    "\r\n",
    "print(emp_1.first)\r\n",
    "print(emp_1.email)\r\n",
    "print(emp_1.fullname)"
   ],
   "outputs": [
    {
     "output_type": "stream",
     "name": "stdout",
     "text": [
      "Jim\n",
      "Jim.Smith@email.com\n",
      "Jim Smith\n"
     ]
    }
   ],
   "metadata": {}
  },
  {
   "cell_type": "code",
   "execution_count": 101,
   "source": [
    "class Employee:\r\n",
    "\r\n",
    "    def __init__(self, first, last):\r\n",
    "        self.first = first\r\n",
    "        self.last = last\r\n",
    "    \r\n",
    "    @property\r\n",
    "    def email(self):\r\n",
    "        return '{}.{}@email.com'.format(self.first, self.last)\r\n",
    "\r\n",
    "    @property\r\n",
    "    def fullname(self):\r\n",
    "        return '{} {}'.format(self.first, self.last)\r\n",
    "\r\n",
    "    @fullname.setter\r\n",
    "    def fullname(self, name):\r\n",
    "        first, last = name.split(' ')\r\n",
    "        self.first = first\r\n",
    "        self.last = last\r\n",
    "\r\n",
    "emp_1 = Employee('John', 'Smith')\r\n",
    "\r\n",
    "emp_1.fullname = 'Corey Schafer'\r\n",
    "\r\n",
    "# emp_1.first = 'Jim'\r\n",
    "\r\n",
    "print(emp_1.first)\r\n",
    "print(emp_1.email)\r\n",
    "print(emp_1.fullname)"
   ],
   "outputs": [
    {
     "output_type": "stream",
     "name": "stdout",
     "text": [
      "Corey\n",
      "Corey.Schafer@email.com\n",
      "Corey Schafer\n"
     ]
    }
   ],
   "metadata": {}
  },
  {
   "cell_type": "code",
   "execution_count": 109,
   "source": [
    "class Employee:\r\n",
    "\r\n",
    "    def __init__(self, first, last):\r\n",
    "        self.first = first\r\n",
    "        self.last = last\r\n",
    "    \r\n",
    "    @property\r\n",
    "    def email(self):\r\n",
    "        return '{}.{}@email.com'.format(self.first, self.last)\r\n",
    "\r\n",
    "    @property\r\n",
    "    def fullname(self):\r\n",
    "        return '{} {}'.format(self.first, self.last)\r\n",
    "\r\n",
    "    @fullname.setter\r\n",
    "    def fullname(self, name):\r\n",
    "        first, last = name.split(' ')\r\n",
    "        self.first = first\r\n",
    "        self.last = last\r\n",
    "\r\n",
    "    @fullname.deleter\r\n",
    "    def fullname(self):\r\n",
    "        print('Delete Name!')\r\n",
    "        self.first = None\r\n",
    "        self.last = None\r\n",
    "\r\n",
    "emp_1 = Employee('John', 'Smith')\r\n",
    "\r\n",
    "emp_1.fullname = 'Corey Schafer'\r\n",
    "\r\n",
    "# emp_1.first = 'Jim'\r\n",
    "\r\n",
    "print(emp_1.first)\r\n",
    "print(emp_1.email)\r\n",
    "print(emp_1.fullname)\r\n",
    "del emp_1.fullname"
   ],
   "outputs": [
    {
     "output_type": "stream",
     "name": "stdout",
     "text": [
      "Corey\n",
      "Corey.Schafer@email.com\n",
      "Corey Schafer\n",
      "Delete Name!\n"
     ]
    }
   ],
   "metadata": {}
  },
  {
   "cell_type": "code",
   "execution_count": null,
   "source": [],
   "outputs": [],
   "metadata": {}
  }
 ],
 "metadata": {
  "orig_nbformat": 4,
  "language_info": {
   "name": "python",
   "version": "3.8.11",
   "mimetype": "text/x-python",
   "codemirror_mode": {
    "name": "ipython",
    "version": 3
   },
   "pygments_lexer": "ipython3",
   "nbconvert_exporter": "python",
   "file_extension": ".py"
  },
  "kernelspec": {
   "name": "python3",
   "display_name": "Python 3.8.11 64-bit ('Python Program Env': conda)"
  },
  "interpreter": {
   "hash": "4026343e53e3e0a5ef5eeba46dbdcc46936b61df1d9108669cd122dad17b1de9"
  }
 },
 "nbformat": 4,
 "nbformat_minor": 2
}